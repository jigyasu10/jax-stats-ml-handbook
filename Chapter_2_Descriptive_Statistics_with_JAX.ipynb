{
  "nbformat": 4,
  "nbformat_minor": 0,
  "metadata": {
    "colab": {
      "provenance": [],
      "authorship_tag": "ABX9TyPXgDPVxD8CjZ0wlMbsdiPP",
      "include_colab_link": true
    },
    "kernelspec": {
      "name": "python3",
      "display_name": "Python 3"
    },
    "language_info": {
      "name": "python"
    }
  },
  "cells": [
    {
      "cell_type": "markdown",
      "metadata": {
        "id": "view-in-github",
        "colab_type": "text"
      },
      "source": [
        "<a href=\"https://colab.research.google.com/github/jigyasu10/jax-stats-ml-handbook/blob/main/Chapter_2_Descriptive_Statistics_with_JAX.ipynb\" target=\"_parent\"><img src=\"https://colab.research.google.com/assets/colab-badge.svg\" alt=\"Open In Colab\"/></a>"
      ]
    },
    {
      "cell_type": "code",
      "execution_count": null,
      "metadata": {
        "id": "Xo9qUUjCEY02"
      },
      "outputs": [],
      "source": []
    },
    {
      "cell_type": "markdown",
      "source": [
        "\n",
        "# Chapter 2: Descriptive Statistics with JAX\n",
        "\n",
        "In the previous chapter, we introduced JAX and its core functionalities. Now, we'll start applying JAX to a fundamental area of data analysis: **descriptive statistics**. Descriptive statistics are the bedrock of any data science endeavor. They provide us with the tools to summarize and understand the key characteristics of our datasets, allowing us to gain initial insights and identify patterns before diving into more complex analyses.\n",
        "\n",
        "This chapter will cover several essential descriptive statistics, exploring both their conceptual underpinnings and their efficient implementation using JAX. We'll learn how to calculate these statistics from scratch using JAX's powerful numerical capabilities.\n",
        "\n",
        "## 2.1 Measures of Central Tendency: Mean, Median, and Mode\n",
        "\n",
        "Measures of central tendency help us understand the \"typical\" or \"central\" value in a dataset. We'll cover the three most common measures: mean, median, and mode.\n",
        "\n",
        "### 2.1.1 Mean (Average)\n",
        "\n",
        "**Conceptual Understanding:**\n",
        "\n",
        "The **mean**, often referred to as the average, is the sum of all values in a dataset divided by the number of values. It's the most widely used measure of central tendency, representing the arithmetic center of the data.\n",
        "\n",
        "**Mathematical Formula:**\n",
        "\n",
        "For a dataset \\( X = \\{x_1, x_2, ..., x_n\\} \\), the mean \\( \\mu \\) is calculated as:\n",
        "\n",
        "\\[\n",
        "\\mu = \\frac{1}{n} \\sum_{i=1}^{n} x_i\n",
        "\\]\n",
        "\n",
        "**When to Use:**\n",
        "\n",
        "The mean is appropriate for **interval or ratio data** that is **symmetrically distributed** and without significant outliers. It's sensitive to extreme values.\n",
        "\n",
        "**JAX Implementation:**\n",
        "\n",
        "JAX makes calculating the mean incredibly straightforward using `jax.numpy.mean()`."
      ],
      "metadata": {
        "id": "fNFVggtHD-Q4"
      }
    },
    {
      "cell_type": "code",
      "source": [
        "import jax.numpy as jnp\n",
        "import jax\n",
        "\n",
        "@jax.jit\n",
        "def calculate_mean_jax(data):\n",
        "    \"\"\"Calculates the mean of a JAX array.\n",
        "\n",
        "    Args:\n",
        "        data: A JAX array of numerical data.\n",
        "\n",
        "    Returns:\n",
        "        The mean of the data as a JAX scalar.\n",
        "    \"\"\"\n",
        "    return jnp.mean(data)"
      ],
      "outputs": [],
      "execution_count": null,
      "metadata": {
        "id": "JN1Uir3uD-Q5"
      }
    },
    {
      "cell_type": "markdown",
      "source": [
        "**Code Example:**"
      ],
      "metadata": {
        "id": "SwHI0LdkD-Q5"
      }
    },
    {
      "cell_type": "code",
      "source": [
        "data_example = jnp.array([2.0, 4.0, 1.0, 3.0, 5.0])\n",
        "mean_value = calculate_mean_jax(data_example)\n",
        "print(f\"Data: {data_example}\")\n",
        "print(f\"Mean: {mean_value:.2f}\")"
      ],
      "outputs": [],
      "execution_count": null,
      "metadata": {
        "id": "CUTIDlioD-Q5"
      }
    },
    {
      "cell_type": "markdown",
      "source": [
        "**Explanation:**\n",
        "\n",
        "The `jax.numpy.mean()` function efficiently computes the mean across all elements of the input JAX array. We've also used `@jax.jit` to compile the `calculate_mean_jax` function for potential performance gains, though for such a simple operation, the benefit might be minimal, but it's good practice to demonstrate its use.\n",
        "\n",
        "### 2.1.2 Median (Middle Value)\n",
        "\n",
        "**Conceptual Understanding:**\n",
        "\n",
        "The **median** is the middle value in a dataset when it's ordered from least to greatest. If there's an even number of data points, the median is the average of the two middle values. The median is less sensitive to outliers than the mean.\n",
        "\n",
        "**Procedure:**\n",
        "\n",
        "1. Sort the dataset in ascending order.\n",
        "2. If the number of data points (n) is odd, the median is the value at position \\( \\frac{n+1}{2} \\).\n",
        "3. If the number of data points (n) is even, the median is the average of the values at positions \\( \\frac{n}{2} \\) and \\( \\frac{n}{2} + 1 \\).\n",
        "\n",
        "**When to Use:**\n",
        "\n",
        "The median is robust to outliers and is suitable for **ordinal, interval, or ratio data**. It's especially useful when dealing with skewed distributions or datasets containing extreme values.\n",
        "\n",
        "**JAX Implementation:**\n",
        "\n",
        "JAX provides `jax.numpy.median()` to calculate the median."
      ],
      "metadata": {
        "id": "QKK3VieYD-Q5"
      }
    },
    {
      "cell_type": "code",
      "source": [
        "@jax.jit\n",
        "def calculate_median_jax(data):\n",
        "    \"\"\"Calculates the median of a JAX array.\n",
        "\n",
        "    Args:\n",
        "        data: A JAX array of numerical data.\n",
        "\n",
        "    Returns:\n",
        "        The median of the data as a JAX scalar.\n",
        "    \"\"\"\n",
        "    return jnp.median(data)"
      ],
      "outputs": [],
      "execution_count": null,
      "metadata": {
        "id": "O6V7AMSqD-Q6"
      }
    },
    {
      "cell_type": "markdown",
      "source": [
        "**Code Example:**"
      ],
      "metadata": {
        "id": "ey6QmuyiD-Q6"
      }
    },
    {
      "cell_type": "code",
      "source": [
        "data_example_odd = jnp.array([2.0, 4.0, 1.0, 3.0, 5.0])\n",
        "median_value_odd = calculate_median_jax(data_example_odd)\n",
        "print(f\"Data (odd): {data_example_odd}\")\n",
        "print(f\"Median (odd): {median_value_odd:.2f}\")\n",
        "\n",
        "data_example_even = jnp.array([2.0, 4.0, 1.0, 3.0, 5.0, 100.0]) # Adding an outlier and making it even\n",
        "median_value_even = calculate_median_jax(data_example_even)\n",
        "mean_value_even = calculate_mean_jax(data_example_even) # For comparison\n",
        "print(f\"Data (even, with outlier): {data_example_even}\")\n",
        "print(f\"Median (even): {median_value_even:.2f}\")\n",
        "print(f\"Mean (even): {mean_value_even:.2f} - Notice how the mean is affected by the outlier\")"
      ],
      "outputs": [],
      "execution_count": null,
      "metadata": {
        "id": "SI_VZ6hAD-Q6"
      }
    },
    {
      "cell_type": "markdown",
      "source": [
        "**Explanation:**\n",
        "\n",
        "`jax.numpy.median()` handles both odd and even sized datasets correctly.  In the example with an outlier (100.0), you can observe how the median remains relatively stable, while the mean is significantly pulled upwards by the outlier, demonstrating the median's robustness.\n",
        "\n",
        "### 2.1.3 Mode (Most Frequent Value)\n",
        "\n",
        "**Conceptual Understanding:**\n",
        "\n",
        "The **mode** is the value that appears most frequently in a dataset. A dataset can have no mode (if all values are unique), one mode (unimodal), two modes (bimodal), or more than two modes (multimodal).\n",
        "\n",
        "**Procedure:**\n",
        "\n",
        "1. Count the frequency of each unique value in the dataset.\n",
        "2. The value(s) with the highest frequency are the mode(s).\n",
        "\n",
        "**When to Use:**\n",
        "\n",
        "The mode is applicable to **nominal, ordinal, interval, and ratio data**. It's particularly useful for categorical data or when you want to identify the most common category or value.\n",
        "\n",
        "**JAX Implementation (from scratch):**\n",
        "\n",
        "While JAX doesn't have a direct `jax.numpy.mode()` function in its core, we can implement it using JAX operations."
      ],
      "metadata": {
        "id": "xIqwhyyrD-Q6"
      }
    },
    {
      "cell_type": "code",
      "source": [
        "@jax.jit\n",
        "def calculate_mode_jax(data):\n",
        "    \"\"\"Calculates the mode(s) of a JAX array.\n",
        "\n",
        "    Args:\n",
        "        data: A JAX array of numerical or categorical data.\n",
        "\n",
        "    Returns:\n",
        "        A JAX array containing the mode(s). If no mode or multiple modes with the same highest frequency exist, returns all such modes.\n",
        "    \"\"\"\n",
        "    unique_values, counts = jnp.unique(data, return_counts=True)\n",
        "    max_count_index = jnp.argmax(counts)\n",
        "    max_count = counts[max_count_index]\n",
        "    modes = unique_values[counts == max_count] # Handle multiple modes\n",
        "    return modes"
      ],
      "outputs": [],
      "execution_count": null,
      "metadata": {
        "id": "scrl1uCID-Q6"
      }
    },
    {
      "cell_type": "markdown",
      "source": [
        "**Code Example:**"
      ],
      "metadata": {
        "id": "YnQzfTNND-Q6"
      }
    },
    {
      "cell_type": "code",
      "source": [
        "data_mode_example = jnp.array([1, 2, 2, 3, 3, 3, 4, 4])\n",
        "modes_value = calculate_mode_jax(data_mode_example)\n",
        "print(f\"Data: {data_mode_example}\")\n",
        "print(f\"Mode(s): {modes_value}\") # Expected mode: 3\n",
        "\n",
        "data_mode_example_multi = jnp.array([1, 2, 2, 3, 3, 4, 5]) # Bimodal (2 and 3)\n",
        "modes_value_multi = calculate_mode_jax(data_mode_example_multi)\n",
        "print(f\"Data (multimodal example): {data_mode_example_multi}\")\n",
        "print(f\"Mode(s) (multimodal): {modes_value_multi}\") # Expected modes: [2, 3]"
      ],
      "outputs": [],
      "execution_count": null,
      "metadata": {
        "id": "kaSNUbNHD-Q6"
      }
    },
    {
      "cell_type": "markdown",
      "source": [
        "**Explanation:**\n",
        "\n",
        "* `jnp.unique(data, return_counts=True)`:  This efficiently finds the unique values in the `data` array and returns them along with their counts.\n",
        "* `jnp.argmax(counts)`: Finds the index of the maximum count, giving us the index of the most frequent value *if there's a unique mode*.\n",
        "* `counts[max_count_index]` and `unique_values[counts == max_count]`:  We extract the maximum count and then find all unique values that have this maximum count to handle cases with multiple modes correctly.\n",
        "\n",
        "## 2.2 Measures of Dispersion: Variance and Standard Deviation\n",
        "\n",
        "Measures of dispersion, also known as measures of variability, describe how spread out or scattered the data points are in a dataset. We'll focus on variance and standard deviation.\n",
        "\n",
        "### 2.2.1 Variance\n",
        "\n",
        "**Conceptual Understanding:**\n",
        "\n",
        "**Variance** measures the average squared deviation of each data point from the mean. It quantifies the overall spread of the data around the mean. A higher variance indicates greater dispersion.\n",
        "\n",
        "**Mathematical Formula:**\n",
        "\n",
        "For a population dataset \\( X = \\{x_1, x_2, ..., x_N\\} \\) with population mean \\( \\mu \\), the population variance \\( \\sigma^2 \\) is:\n",
        "\n",
        "\\[\n",
        "\\sigma^2 = \\frac{1}{N} \\sum_{i=1}^{N} (x_i - \\mu)^2\n",
        "\\]\n",
        "\n",
        "For a sample dataset \\( x = \\{x_1, x_2, ..., x_n\\} \\) with sample mean \\( \\bar{x} \\), the sample variance \\( s^2 \\) is often calculated with a Bessel's correction (using \\(n-1\\) in the denominator for an unbiased estimate of the population variance):\n",
        "\n",
        "\\[\n",
        "s^2 = \\frac{1}{n-1} \\sum_{i=1}^{n} (x_i - \\bar{x})^2\n",
        "\\]\n",
        "\n",
        "**When to Use:**\n",
        "\n",
        "Variance is used with **interval or ratio data**. It provides a measure of data spread, but its units are squared units of the original data, which can be less intuitive to interpret directly.\n",
        "\n",
        "**JAX Implementation:**\n",
        "\n",
        "JAX provides `jax.numpy.var()` for calculating variance. By default, `jnp.var()` calculates the *population variance* (dividing by N). To get the *sample variance* (dividing by n-1), we need to set the `ddof` (delta degrees of freedom) argument to 1."
      ],
      "metadata": {
        "id": "gDXku8SuD-Q7"
      }
    },
    {
      "cell_type": "code",
      "source": [
        "@jax.jit\n",
        "def calculate_variance_jax(data, is_sample=False):\n",
        "    \"\"\"Calculates the variance of a JAX array.\n",
        "\n",
        "    Args:\n",
        "        data: A JAX array of numerical data.\n",
        "        is_sample: Boolean, if True, calculates sample variance (divides by n-1), else population variance (divides by n).\n",
        "\n",
        "    Returns:\n",
        "        The variance of the data as a JAX scalar.\n",
        "    \"\"\"\n",
        "    ddof = 1 if is_sample else 0 # Delta Degrees of Freedom: 1 for sample variance\n",
        "    return jnp.var(data, ddof=ddof)"
      ],
      "outputs": [],
      "execution_count": null,
      "metadata": {
        "id": "hRmByV57D-Q7"
      }
    },
    {
      "cell_type": "markdown",
      "source": [
        "**Code Example:**"
      ],
      "metadata": {
        "id": "FVIeSBtZD-Q7"
      }
    },
    {
      "cell_type": "code",
      "source": [
        "data_variance_example = jnp.array([2.0, 4.0, 1.0, 3.0, 5.0])\n",
        "population_variance = calculate_variance_jax(data_variance_example, is_sample=False)\n",
        "sample_variance = calculate_variance_jax(data_variance_example, is_sample=True)\n",
        "\n",
        "print(f\"Data: {data_variance_example}\")\n",
        "print(f\"Population Variance: {population_variance:.2f}\")\n",
        "print(f\"Sample Variance: {sample_variance:.2f}\") # Sample variance is slightly larger"
      ],
      "outputs": [],
      "execution_count": null,
      "metadata": {
        "id": "Sjiy16uYD-Q7"
      }
    },
    {
      "cell_type": "markdown",
      "source": [
        "**Explanation:**\n",
        "\n",
        "We use `jax.numpy.var()` and control whether to calculate population or sample variance using the `ddof` argument. Setting `ddof=1` implements Bessel's correction for sample variance.\n",
        "\n",
        "### 2.2.2 Standard Deviation\n",
        "\n",
        "**Conceptual Understanding:**\n",
        "\n",
        "**Standard deviation** is the square root of the variance. It's another measure of data dispersion but is expressed in the same units as the original data, making it often more interpretable than variance. It represents the typical distance of data points from the mean.\n",
        "\n",
        "**Mathematical Formula:**\n",
        "\n",
        "The standard deviation \\( \\sigma \\) is simply the square root of the variance \\( \\sigma^2 \\):\n",
        "\n",
        "\\[\n",
        "\\sigma = \\sqrt{\\sigma^2} = \\sqrt{\\frac{1}{N} \\sum_{i=1}^{N} (x_i - \\mu)^2}  \\text{ (Population)}\n",
        "\\]\n",
        "\\[\n",
        "s = \\sqrt{s^2} = \\sqrt{\\frac{1}{n-1} \\sum_{i=1}^{n} (x_i - \\bar{x})^2}  \\text{ (Sample)}\n",
        "\\]\n",
        "\n",
        "**When to Use:**\n",
        "\n",
        "Similar to variance, standard deviation is used with **interval or ratio data**. It's widely used because of its interpretable units and for visualizing data spread.\n",
        "\n",
        "**JAX Implementation:**\n",
        "\n",
        "JAX provides `jax.numpy.std()` for calculating standard deviation, which also accepts the `ddof` argument to differentiate between population and sample standard deviation."
      ],
      "metadata": {
        "id": "8GOoU76nD-Q7"
      }
    },
    {
      "cell_type": "code",
      "source": [
        "@jax.jit\n",
        "def calculate_std_dev_jax(data, is_sample=False):\n",
        "    \"\"\"Calculates the standard deviation of a JAX array.\n",
        "\n",
        "    Args:\n",
        "        data: A JAX array of numerical data.\n",
        "        is_sample: Boolean, if True, calculates sample standard deviation (divides by n-1 in variance calculation), else population standard deviation (divides by n).\n",
        "\n",
        "    Returns:\n",
        "        The standard deviation of the data as a JAX scalar.\n",
        "    \"\"\"\n",
        "    ddof = 1 if is_sample else 0\n",
        "    return jnp.std(data, ddof=ddof)"
      ],
      "outputs": [],
      "execution_count": null,
      "metadata": {
        "id": "jSemGFyTD-Q7"
      }
    },
    {
      "cell_type": "markdown",
      "source": [
        "**Code Example:**"
      ],
      "metadata": {
        "id": "LpnZ71qqD-Q7"
      }
    },
    {
      "cell_type": "code",
      "source": [
        "data_std_dev_example = jnp.array([2.0, 4.0, 1.0, 3.0, 5.0])\n",
        "population_std_dev = calculate_std_dev_jax(data_std_dev_example, is_sample=False)\n",
        "sample_std_dev = calculate_std_dev_jax(data_std_dev_example, is_sample=True)\n",
        "\n",
        "print(f\"Data: {data_std_dev_example}\")\n",
        "print(f\"Population Standard Deviation: {population_std_dev:.2f}\")\n",
        "print(f\"Sample Standard Deviation: {sample_std_dev:.2f}\")"
      ],
      "outputs": [],
      "execution_count": null,
      "metadata": {
        "id": "SCVxaxqoD-Q7"
      }
    },
    {
      "cell_type": "markdown",
      "source": [
        "**Explanation:**\n",
        "\n",
        "`jax.numpy.std()` mirrors `jax.numpy.var()` in its usage, making it simple to calculate both population and sample standard deviations by setting `ddof`.\n",
        "\n",
        "## 2.3 Percentiles and Quartiles\n",
        "\n",
        "**Conceptual Understanding:**\n",
        "\n",
        "**Percentiles** divide a sorted dataset into 100 equal parts. The *p*-th percentile is the value below which *p*% of the data points fall.  **Quartiles** are specific percentiles that divide the data into four quarters:\n",
        "\n",
        "* **Q1 (First Quartile):** 25th percentile.\n",
        "* **Q2 (Second Quartile):** 50th percentile (which is also the median).\n",
        "* **Q3 (Third Quartile):** 75th percentile.\n",
        "\n",
        "**When to Use:**\n",
        "\n",
        "Percentiles and quartiles are useful for understanding the distribution of data, particularly for identifying the spread and skewness. They are applicable to **ordinal, interval, and ratio data** and are robust to outliers.\n",
        "\n",
        "**JAX Implementation:**\n",
        "\n",
        "JAX provides `jax.numpy.percentile()` to calculate percentiles.  To get quartiles, we can calculate percentiles at 25, 50, and 75."
      ],
      "metadata": {
        "id": "DoCtYUP6D-Q7"
      }
    },
    {
      "cell_type": "code",
      "source": [
        "@jax.jit\n",
        "def calculate_percentile_jax(data, percentile_value):\n",
        "    \"\"\"Calculates a specific percentile of a JAX array.\n",
        "\n",
        "    Args:\n",
        "        data: A JAX array of numerical data.\n",
        "        percentile_value: The percentile to calculate (e.g., 25 for 25th percentile).\n",
        "\n",
        "    Returns:\n",
        "        The percentile value as a JAX scalar.\n",
        "    \"\"\"\n",
        "    return jnp.percentile(data, percentile_value)\n",
        "\n",
        "@jax.jit\n",
        "def calculate_quartiles_jax(data):\n",
        "    \"\"\"Calculates the quartiles (Q1, Q2, Q3) of a JAX array.\n",
        "\n",
        "    Args:\n",
        "        data: A JAX array of numerical data.\n",
        "\n",
        "    Returns:\n",
        "        A JAX array containing [Q1, Q2, Q3].\n",
        "    \"\"\"\n",
        "    q1 = calculate_percentile_jax(data, 25)\n",
        "    q2 = calculate_percentile_jax(data, 50) # Median\n",
        "    q3 = calculate_percentile_jax(data, 75)\n",
        "    return jnp.array([q1, q2, q3])"
      ],
      "outputs": [],
      "execution_count": null,
      "metadata": {
        "id": "g35W6VapD-Q7"
      }
    },
    {
      "cell_type": "markdown",
      "source": [
        "**Code Example:**"
      ],
      "metadata": {
        "id": "2FGnYoRJD-Q7"
      }
    },
    {
      "cell_type": "code",
      "source": [
        "data_percentile_example = jnp.array([10, 20, 30, 40, 50, 60, 70, 80, 90, 100])\n",
        "p90 = calculate_percentile_jax(data_percentile_example, 90) # 90th percentile\n",
        "quartiles = calculate_quartiles_jax(data_percentile_example)\n",
        "\n",
        "print(f\"Data: {data_percentile_example}\")\n",
        "print(f\"90th Percentile: {p90:.2f}\") # Expected: 91 (approximately, depending on interpolation)\n",
        "print(f\"Quartiles (Q1, Q2, Q3): {quartiles}\") # Expected roughly [30, 50, 70]"
      ],
      "outputs": [],
      "execution_count": null,
      "metadata": {
        "id": "ZcJCM-wMD-Q7"
      }
    },
    {
      "cell_type": "markdown",
      "source": [
        "**Explanation:**\n",
        "\n",
        "* `jax.numpy.percentile(data, percentile_value)`:  Calculates the specified percentile.\n",
        "* `calculate_quartiles_jax`:  A convenience function that uses `calculate_percentile_jax` to compute the 25th, 50th, and 75th percentiles and returns them as a JAX array.\n",
        "\n",
        "## 2.4 Histograms and Data Visualization (using JAX for calculations)\n",
        "\n",
        "**Conceptual Understanding:**\n",
        "\n",
        "A **histogram** is a graphical representation of the distribution of numerical data. It groups data into bins and displays the frequency or count of data points falling into each bin.  Histograms provide a visual understanding of the data's shape, central tendency, and spread.\n",
        "\n",
        "A **box plot** (or box-and-whisker plot) is another graphical representation that summarizes the distribution of data based on its quartiles (Q1, Q2/median, Q3), minimum, and maximum values. It's effective for comparing distributions across different groups and for identifying outliers.\n",
        "\n",
        "**When to Use:**\n",
        "\n",
        "Histograms and box plots are valuable for visualizing the distribution of **interval or ratio data**. Histograms show the detailed shape of the distribution, while box plots provide a more concise summary, particularly for comparing distributions or detecting outliers.\n",
        "\n",
        "**JAX Implementation (for Calculation):**\n",
        "\n",
        "JAX itself primarily focuses on numerical computation and doesn't have built-in plotting functionalities. However, we can use JAX to efficiently *calculate* the data needed to create histograms and box plots, and then use libraries like `matplotlib` or `seaborn` (after potentially converting JAX arrays to NumPy arrays) for visualization."
      ],
      "metadata": {
        "id": "XEWkyWtRD-Q7"
      }
    },
    {
      "cell_type": "code",
      "source": [
        "@jax.jit\n",
        "def calculate_histogram_data_jax(data, bins=10, data_range=None):\n",
        "    \"\"\"Calculates data for a histogram from a JAX array.\n",
        "\n",
        "    Args:\n",
        "        data: A JAX array of numerical data.\n",
        "        bins: Number of bins for the histogram.\n",
        "        data_range: Optional tuple (min, max) to specify the range of the histogram.\n",
        "\n",
        "    Returns:\n",
        "        A tuple (bin_counts, bin_edges) for creating a histogram.\n",
        "    \"\"\"\n",
        "    bin_counts, bin_edges = jnp.histogram(data, bins=bins, range=data_range)\n",
        "    return bin_counts, bin_edges"
      ],
      "outputs": [],
      "execution_count": null,
      "metadata": {
        "id": "x7F0JpkmD-Q7"
      }
    },
    {
      "cell_type": "markdown",
      "source": [
        "**Code Example (Calculation and Visualization with Matplotlib):**"
      ],
      "metadata": {
        "id": "24uDCQ92D-Q8"
      }
    },
    {
      "cell_type": "code",
      "source": [
        "import matplotlib.pyplot as plt # Import matplotlib for plotting\n",
        "\n",
        "data_hist_example = jax.random.normal(jax.random.PRNGKey(1), (1000,)) * 2 + 5 # Example data (roughly normal distribution)\n",
        "\n",
        "bin_counts, bin_edges = calculate_histogram_data_jax(data_hist_example, bins=20)\n",
        "\n",
        "# Convert JAX arrays to NumPy arrays for Matplotlib\n",
        "bin_counts_np = jnp.array(bin_counts)\n",
        "bin_edges_np = jnp.array(bin_edges)\n",
        "\n",
        "plt.figure(figsize=(8, 5))\n",
        "plt.hist(bin_edges_np[:-1], bin_edges_np, weights=bin_counts_np) # Using bin edges and counts to create the histogram in matplotlib\n",
        "plt.title(\"Histogram of Example Data (Calculated with JAX)\")\n",
        "plt.xlabel(\"Data Values\")\n",
        "plt.ylabel(\"Frequency\")\n",
        "plt.show()\n",
        "\n",
        "\n",
        "@jax.jit\n",
        "def calculate_boxplot_data_jax(data):\n",
        "    \"\"\"Calculates data for a box plot (quartiles, min, max) from a JAX array.\n",
        "\n",
        "    Args:\n",
        "        data: A JAX array of numerical data.\n",
        "\n",
        "    Returns:\n",
        "        A dictionary containing 'Q1', 'Q2', 'Q3', 'min', 'max'.\n",
        "    \"\"\"\n",
        "    quartiles = calculate_quartiles_jax(data)\n",
        "    min_val = jnp.min(data)\n",
        "    max_val = jnp.max(data)\n",
        "    return {'Q1': quartiles[0], 'Q2': quartiles[1], 'Q3': quartiles[2], 'min': min_val, 'max': max_val}\n",
        "\n",
        "\n",
        "boxplot_data = calculate_boxplot_data_jax(data_hist_example) # Using same data for boxplot\n",
        "print(f\"Box Plot Data (JAX calculated): {boxplot_data}\")\n",
        "\n",
        "# Example of using matplotlib for boxplot (can be done directly from data if needed, but showing JAX calculation)\n",
        "plt.figure(figsize=(6, 4))\n",
        "plt.boxplot([jnp.array(data_hist_example)], positions=[1], widths=0.6) # Pass data as list, positions for single box\n",
        "plt.xticks([1], ['Data']) # Label for the box\n",
        "plt.title(\"Box Plot of Example Data\")\n",
        "plt.ylabel(\"Data Values\")\n",
        "plt.show()"
      ],
      "outputs": [],
      "execution_count": null,
      "metadata": {
        "id": "K4LUyiCmD-Q8"
      }
    },
    {
      "cell_type": "markdown",
      "source": [
        "**Explanation:**\n",
        "\n",
        "* `calculate_histogram_data_jax`:  Uses `jax.numpy.histogram()` to calculate bin counts and edges, the core data needed for a histogram.\n",
        "* `calculate_boxplot_data_jax`: Calculates quartiles, minimum, and maximum, which are the key summary statistics represented in a box plot.\n",
        "* **Visualization with Matplotlib:** The code demonstrates how to use `matplotlib.pyplot.hist` and `matplotlib.pyplot.boxplot` to create the visualizations.  We convert the JAX arrays to NumPy arrays (`jnp.array()`) before passing them to Matplotlib, as Matplotlib primarily works with NumPy arrays.  You could explore other plotting libraries that have better JAX array compatibility if needed for more complex visualizations.\n",
        "\n",
        "## 2.5 Correlation: Pearson and Spearman\n",
        "\n",
        "**Conceptual Understanding:**\n",
        "\n",
        "**Correlation** measures the statistical relationship between two variables. It describes the strength and direction of a linear (for Pearson) or monotonic (for Spearman) relationship.\n",
        "\n",
        "* **Pearson Correlation Coefficient (r):** Measures the strength and direction of a *linear* relationship between two continuous variables. It ranges from -1 to +1:\n",
        "    * +1: Perfect positive linear correlation.\n",
        "    * -1: Perfect negative linear correlation.\n",
        "    * 0: No linear correlation.\n",
        "\n",
        "* **Spearman Rank Correlation Coefficient (ρ or ρ<sub>s</sub>):** Measures the strength and direction of a *monotonic* relationship (not necessarily linear) between two variables (can be ordinal or continuous). It's based on the ranks of the data values.  Also ranges from -1 to +1, with similar interpretations.\n",
        "\n",
        "**When to Use:**\n",
        "\n",
        "* **Pearson Correlation:** Use for **interval or ratio data** when you want to assess the *linear* relationship between two variables. Sensitive to outliers and assumes linearity.\n",
        "* **Spearman Correlation:** Use for **ordinal, interval, or ratio data** when you want to assess a *monotonic* relationship (variables tend to increase or decrease together, but not necessarily linearly). More robust to outliers than Pearson.\n",
        "\n",
        "**Mathematical Formula (Pearson):**\n",
        "\n",
        "For two variables \\( X = \\{x_1, x_2, ..., x_n\\} \\) and \\( Y = \\{y_1, y_2, ..., y_n\\} \\), the Pearson correlation coefficient \\( r \\) is:\n",
        "\n",
        "\\[\n",
        "r = \\frac{\\sum_{i=1}^{n} (x_i - \\bar{x})(y_i - \\bar{y})}{\\sqrt{\\sum_{i=1}^{n} (x_i - \\bar{x})^2} \\sqrt{\\sum_{i=1}^{n} (y_i - \\bar{y})^2}}\n",
        "\\]\n",
        "\n",
        "**JAX Implementation (Pearson):**\n",
        "\n",
        "We can implement Pearson correlation using JAX operations."
      ],
      "metadata": {
        "id": "HeLES-R1D-Q8"
      }
    },
    {
      "cell_type": "code",
      "source": [
        "@jax.jit\n",
        "def calculate_pearson_correlation_jax(x, y):\n",
        "    \"\"\"Calculates the Pearson correlation coefficient between two JAX arrays.\n",
        "\n",
        "    Args:\n",
        "        x: A JAX array representing the first variable.\n",
        "        y: A JAX array representing the second variable (same length as x).\n",
        "\n",
        "    Returns:\n",
        "        The Pearson correlation coefficient as a JAX scalar.\n",
        "    \"\"\"\n",
        "    x_mean = jnp.mean(x)\n",
        "    y_mean = jnp.mean(y)\n",
        "    numerator = jnp.sum((x - x_mean) * (y - y_mean))\n",
        "    denominator = jnp.sqrt(jnp.sum((x - x_mean)**2) * jnp.sum((y - y_mean)**2))\n",
        "    return numerator / denominator"
      ],
      "outputs": [],
      "execution_count": null,
      "metadata": {
        "id": "3mODo0TeD-Q8"
      }
    },
    {
      "cell_type": "markdown",
      "source": [
        "**JAX Implementation (Spearman):**\n",
        "\n",
        "For Spearman correlation, we need to rank the data first. JAX doesn't have a direct ranking function in core `jax.numpy`, so we might need to use a combination of functions or potentially leverage a JAX-compatible library for ranking if a highly optimized implementation is critical (for this book's scope, a basic implementation is sufficient to demonstrate the concept). A simplified approach for now would be to convert to NumPy, rank, then convert back to JAX arrays for the correlation calculation - or implement ranking logic in JAX if you want to avoid NumPy conversion entirely. For simplicity in this introductory chapter, we'll use a less optimized but clearer implementation."
      ],
      "metadata": {
        "id": "T1rinLv9D-Q8"
      }
    },
    {
      "cell_type": "code",
      "source": [
        "@jax.jit\n",
        "def calculate_spearman_correlation_jax(x, y):\n",
        "    \"\"\"Calculates the Spearman rank correlation coefficient between two JAX arrays.\n",
        "       (Simplified implementation - ranking in JAX might be less performant for very large arrays without optimized ranking algorithms)\n",
        "\n",
        "    Args:\n",
        "        x: A JAX array representing the first variable.\n",
        "        y: A JAX array representing the second variable (same length as x).\n",
        "\n",
        "    Returns:\n",
        "        The Spearman rank correlation coefficient as a JAX scalar.\n",
        "    \"\"\"\n",
        "    # **Simplified ranking - for demonstration.  For performance-critical ranking in JAX, explore optimized ranking algorithms.**\n",
        "    x_ranked_indices = jnp.argsort(x) # Indices that would sort x\n",
        "    y_ranked_indices = jnp.argsort(y) # Indices that would sort y\n",
        "    x_ranks = jnp.argsort(x_ranked_indices) + 1 # Convert indices to ranks (1-based)\n",
        "    y_ranks = jnp.argsort(y_ranked_indices) + 1\n",
        "    return calculate_pearson_correlation_jax(x_ranks, y_ranks) # Spearman's rho is Pearson on ranks"
      ],
      "outputs": [],
      "execution_count": null,
      "metadata": {
        "id": "ZrmjpSRtD-Q8"
      }
    },
    {
      "cell_type": "markdown",
      "source": [
        "**Code Example (Correlation):**"
      ],
      "metadata": {
        "id": "wt7T7PGgD-Q8"
      }
    },
    {
      "cell_type": "code",
      "source": [
        "x_data_corr = jnp.array([1, 2, 3, 4, 5])\n",
        "y_data_corr_pos = jnp.array([2, 4, 6, 8, 10]) # Positively correlated\n",
        "y_data_corr_neg = jnp.array([10, 8, 6, 4, 2]) # Negatively correlated\n",
        "y_data_corr_no = jax.random.uniform(jax.random.PRNGKey(2), (5,)) * 10 # No correlation (random)\n",
        "\n",
        "pearson_pos = calculate_pearson_correlation_jax(x_data_corr, y_data_corr_pos)\n",
        "pearson_neg = calculate_pearson_correlation_jax(x_data_corr, y_data_corr_neg)\n",
        "pearson_no = calculate_pearson_correlation_jax(x_data_corr, y_data_corr_no)\n",
        "\n",
        "spearman_pos = calculate_spearman_correlation_jax(x_data_corr, y_data_corr_pos)\n",
        "spearman_neg = calculate_spearman_correlation_jax(x_data_corr, y_data_corr_neg)\n",
        "spearman_no = calculate_spearman_correlation_jax(x_data_corr, y_data_corr_no)\n",
        "\n",
        "print(f\"X Data: {x_data_corr}\")\n",
        "print(f\"Y Data (Positive Corr): {y_data_corr_pos}\")\n",
        "print(f\"Pearson Correlation (Positive): {pearson_pos:.2f}\")\n",
        "print(f\"Spearman Correlation (Positive): {spearman_pos:.2f}\") # Should be very close to Pearson for linear data\n",
        "\n",
        "print(f\"\\nY Data (Negative Corr): {y_data_corr_neg}\")\n",
        "print(f\"Pearson Correlation (Negative): {pearson_neg:.2f}\")\n",
        "print(f\"Spearman Correlation (Negative): {spearman_neg:.2f}\")\n",
        "\n",
        "print(f\"\\nY Data (No Corr): {y_data_corr_no}\")\n",
        "print(f\"Pearson Correlation (No): {pearson_no:.2f}\")\n",
        "print(f\"Spearman Correlation (No): {spearman_no:.2f}\") # Spearman will also be close to zero for uncorrelated data"
      ],
      "outputs": [],
      "execution_count": null,
      "metadata": {
        "id": "6jzTfM0tD-Q8"
      }
    },
    {
      "cell_type": "markdown",
      "source": [
        "**Explanation:**\n",
        "\n",
        "* **Pearson Correlation Implementation:** Follows the mathematical formula directly using `jax.numpy` operations.\n",
        "* **Spearman Correlation Implementation (Simplified):**\n",
        "    * `jnp.argsort()` is used to get the indices that would sort the arrays.\n",
        "    * `jnp.argsort(jnp.argsort(...))` is a trick to get ranks (though less optimized for very large arrays).  We calculate ranks for both `x` and `y`.\n",
        "    * Spearman's rho is then simply the Pearson correlation calculated on the ranks.\n",
        "    * **Note on Ranking Performance:**  The ranking implementation here is illustrative. For large datasets in performance-critical applications, you might need to explore more optimized JAX-based ranking algorithms if available or consider specialized JAX libraries if they emerge. For this book's focus on \"common algorithms\" and conceptual understanding, this implementation is sufficient for demonstration.\n",
        "\n",
        "## 2.6 Chapter Summary\n",
        "\n",
        "In this chapter, we've explored essential descriptive statistics and their implementation in JAX. We covered:\n",
        "\n",
        "* **Measures of Central Tendency:** Mean, Median, and Mode, understanding their properties and appropriate use cases.\n",
        "* **Measures of Dispersion:** Variance and Standard Deviation, quantifying data spread.\n",
        "* **Percentiles and Quartiles:**  Dividing data into portions to understand distribution.\n",
        "* **Histograms and Box Plots:**  Using JAX to calculate data for visualizing data distributions.\n",
        "* **Correlation:** Pearson and Spearman correlation coefficients for measuring relationships between variables.\n",
        "\n",
        "For each statistic, we provided both conceptual explanations and practical JAX code examples. You now have a solid foundation for using JAX to calculate descriptive statistics, which are crucial for any data analysis workflow.\n",
        "\n",
        "In the next chapter, we'll move on to another fundamental area: hypothesis testing, and continue to build our JAX-based data science toolkit.\n",
        "\n",
        "\n",
        "This chapter aims to provide a comprehensive introduction to descriptive statistics in JAX, balancing conceptual understanding with practical implementation and setting a solid foundation for the rest of the book. Let me know if you have any feedback or would like modifications!"
      ],
      "metadata": {
        "id": "sAtnnSWGD-Q8"
      }
    },
    {
      "cell_type": "markdown",
      "source": [
        "<div class=\"md-recitation\">\n",
        "  Sources\n",
        "  <ol>\n",
        "  <li><a href=\"https://github.com/ajaverett/statistics\">https://github.com/ajaverett/statistics</a></li>\n",
        "  <li><a href=\"https://github.com/TapasChatterjee/Statistics\">https://github.com/TapasChatterjee/Statistics</a></li>\n",
        "  <li><a href=\"https://github.com/paras007frnd/Data_science\">https://github.com/paras007frnd/Data_science</a></li>\n",
        "  </ol>\n",
        "</div>"
      ],
      "metadata": {
        "id": "mrnYerMWD-Q8"
      }
    }
  ]
}